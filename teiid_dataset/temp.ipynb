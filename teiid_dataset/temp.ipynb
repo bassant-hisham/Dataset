{
 "cells": [
  {
   "cell_type": "code",
   "execution_count": 4,
   "metadata": {},
   "outputs": [
    {
     "name": "stdout",
     "output_type": "stream",
     "text": [
      "CSV file has been split into four files: output1.csv , output2.csv , output3.csv and output4.csv\n"
     ]
    }
   ],
   "source": [
    "import pandas as pd\n",
    "\n",
    "# Read the original CSV file into a DataFrame\n",
    "original_csv_path = 'train_modified.csv'\n",
    "df = pd.read_csv(original_csv_path)\n",
    "\n",
    "# Determine the number of rows to split the DataFrame\n",
    "num_rows = len(df)\n",
    "split_index1 = num_rows // 4\n",
    "split_index2 = 2 * (num_rows // 4)\n",
    "split_index3 = 3 * (num_rows // 4)\n",
    "\n",
    "# Split the DataFrame into four DataFrames\n",
    "df1 = df.iloc[:split_index1]\n",
    "df2 = df.iloc[split_index1:split_index2]\n",
    "df3 = df.iloc[split_index2:split_index3]\n",
    "df4 = df.iloc[split_index3:]\n",
    "\n",
    "# Write each DataFrame to a separate CSV file\n",
    "output_csv1 = 'output1.csv'\n",
    "output_csv2 = 'output2.csv'\n",
    "output_csv3 = 'output3.csv'\n",
    "output_csv4 = 'output4.csv'\n",
    "df1.to_csv(output_csv1, index=False)\n",
    "df2.to_csv(output_csv2, index=False)\n",
    "df3.to_csv(output_csv3, index=False)\n",
    "df4.to_csv(output_csv4, index=False)\n",
    "\n",
    "print(\"CSV file has been split into four files:\", output_csv1, \",\", output_csv2, \",\", output_csv3, \"and\", output_csv4)\n"
   ]
  }
 ],
 "metadata": {
  "kernelspec": {
   "display_name": "base",
   "language": "python",
   "name": "python3"
  },
  "language_info": {
   "codemirror_mode": {
    "name": "ipython",
    "version": 3
   },
   "file_extension": ".py",
   "mimetype": "text/x-python",
   "name": "python",
   "nbconvert_exporter": "python",
   "pygments_lexer": "ipython3",
   "version": "3.11.5"
  }
 },
 "nbformat": 4,
 "nbformat_minor": 2
}
